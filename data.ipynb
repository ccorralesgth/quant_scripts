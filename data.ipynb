###
#   Script with examples about how to get data
###

#generic imports
import io
import json
import matplotlib.pyplot as plt 
#%matplotlib inline

#pandas_datareader import
import pandas as pd
from pandas_datareader import data

#quandl
import quandl
start_date= '2015-01-01'
end_date = '2020-01-01'
ticket = ['AAPL','MSFT']

#padas_datareader
data = data.get_data_yahoo(ticket[0],start_date,end_date)
print(data.head())
data['Adj Close'].plot()
plt.show()




#getting quandl api key 
personaldatafile = open('personaldata.json','r')
quandl_api_key = json.load(personaldatafile)['quandl_api_key']
#print(quandl_api_key)


def plot_data(self, data):
    data.plot()
    plt.show()






